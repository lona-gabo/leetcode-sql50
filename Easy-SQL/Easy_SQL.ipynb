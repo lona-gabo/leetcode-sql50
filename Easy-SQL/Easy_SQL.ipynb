{
  "cells": [
    {
      "cell_type": "markdown",
      "metadata": {
        "id": "kAfgAQEtMAZ9"
      },
      "source": [
        "## 1757. Recyclabe and Low Fat Products\n",
        "\n",
        "### **Descripción del problema**\n",
        "\n",
        "Escribe una solución para encontrar los IDs de productos los cuales ambos son 'low fat' y 'recycable'.\n",
        "\n",
        "Return the result table in any order\n",
        "\n",
        "---\n",
        "\n",
        "### **Estructuras de las tablas**\n",
        "\n",
        "#### **Tabla: Visits**\n",
        "| Column Name | Type |\n",
        "| :--- | :--- |\n",
        "| product_id | int |\n",
        "| low_fats | enum |\n",
        "| recycable | enum |\n",
        "\n",
        "`product_id` is the primary key (column with unique values) for this table.\n",
        "low_fats is an ENUM (category) of type ('Y', 'N') where 'Y' means this product is low fat and 'N' means it is not.\n",
        "recyclable is an ENUM (category) of types ('Y', 'N') where 'Y' means this product is recyclable and 'N' means it is not.\n",
        "\n",
        "---\n",
        "\n",
        "### **Solución en SQL**\n",
        "\n",
        "La lógica para este problema es identificar los productos de baja grasa y reciclables, lo cual logramos con un filtro WHERE.\n",
        "\n",
        "```sql\n",
        "SELECT\n",
        "    -- Seleccionamos el ID del producto\n",
        "    product_id,\n",
        "FROM\n",
        "    Products\n",
        "WHERE\n",
        "    -- Filtramos para quedarnos solo con los productos con 'Y'.\n",
        "    where low_fats = 'Y' and recyclable = 'Y';"
      ]
    },
    {
      "cell_type": "markdown",
      "metadata": {
        "id": "dSFNn57dNk5f"
      },
      "source": [
        "***Resultado Obtenido***\n",
        "\n",
        "| product_id |\n",
        "| ---------- |\n",
        "| 1          |\n",
        "| 3          |\n",
        "\n",
        "Es decir, los productos 1 y 3 cumplen con el criterio."
      ]
    },
    {
      "cell_type": "markdown",
      "metadata": {
        "id": "DoEZFzOg8m31"
      },
      "source": [
        "## 1581. Customer Who Visited but Did Not Make Any Transactions\n",
        "\n",
        "### **Descripción del problema**\n",
        "\n",
        "Escribe una solución para encontrar los IDs de los usuarios que visitaron sin hacer alguna compra y el número de veces que hicieron ese tipo de visitas.\n",
        "\n",
        "Return the result table sorted in any order\n",
        "\n",
        "---\n",
        "\n",
        "### **Estructuras de las tablas**\n",
        "\n",
        "#### **Tabla: Visits**\n",
        "| Column Name | Type |\n",
        "| :--- | :--- |\n",
        "| visit_id | int |\n",
        "| customer_id | int |\n",
        "\n",
        "`visit_id` is the primary key for this table.\n",
        "This table contains information about customers who visited the mall.\n",
        "\n",
        "#### **Tabla: Transactions**\n",
        "| Column Name | Type |\n",
        "| :--- | :--- |\n",
        "| transaction_id | int |\n",
        "| visit_id | int |\n",
        "| amount | int |\n",
        "\n",
        "`transaction_id` is the primary key for this table.\n",
        "This table contains information about the transactions made during the visit.\n",
        "\n",
        "---\n",
        "\n",
        "### **Solución en SQL**\n",
        "\n",
        "La lógica para este problema es identificar las visitas sin transacciones, lo cual logramos con un LEFT JOIN y un filtro en la cláusula WHERE. Luego, agrupamos y contamos las visitas por cliente.\n",
        "\n",
        "```sql\n",
        "SELECT\n",
        "    -- Seleccionamos el ID del cliente y contamos el número de visitas sin transacciones.\n",
        "    v.customer_id,\n",
        "    COUNT(v.visit_id) AS count_no_trans\n",
        "FROM\n",
        "    Visits AS v\n",
        "-- Utilizamos LEFT JOIN para asegurar que todas las visitas se incluyan,\n",
        "-- incluso si no hay una transacción asociada.\n",
        "LEFT JOIN\n",
        "    Transactions AS t ON v.visit_id = t.visit_id\n",
        "WHERE\n",
        "    -- Filtramos para quedarnos solo con las visitas que no tienen una transacción.\n",
        "    -- Las filas sin coincidencia en la tabla 'Transactions' tendrán 'NULL' en sus columnas.\n",
        "    t.transaction_id IS NULL\n",
        "GROUP BY\n",
        "    -- Agrupamos por cliente para contar las visitas de cada uno de forma individual.\n",
        "    v.customer_id"
      ]
    },
    {
      "cell_type": "markdown",
      "metadata": {
        "id": "zd1KwlEoIISO"
      },
      "source": [
        "***Resultado Obtenido***\n",
        "\n",
        "| customer_id | count_no_trans |\n",
        "| :--- | :--- |\n",
        "| 30 | 1 |\n",
        "| 96 | 1 |\n",
        "| 54 | 2 |"
      ]
    },
    {
      "cell_type": "markdown",
      "metadata": {},
      "source": [
        "Prueba nueva"
      ]
    },
    {
      "cell_type": "code",
      "execution_count": null,
      "metadata": {
        "id": "dvyBs7OPLNQa"
      },
      "outputs": [],
      "source": []
    }
  ],
  "metadata": {
    "colab": {
      "provenance": [],
      "toc_visible": true
    },
    "kernelspec": {
      "display_name": "Python 3",
      "name": "python3"
    },
    "language_info": {
      "name": "python"
    }
  },
  "nbformat": 4,
  "nbformat_minor": 0
}
